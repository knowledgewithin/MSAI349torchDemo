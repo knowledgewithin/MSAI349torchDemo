{
  "nbformat": 4,
  "nbformat_minor": 0,
  "metadata": {
    "colab": {
      "name": "Pytorch Demo",
      "provenance": [],
      "collapsed_sections": []
    },
    "kernelspec": {
      "name": "python3",
      "display_name": "Python 3"
    },
    "language_info": {
      "name": "python"
    },
    "accelerator": "GPU"
  },
  "cells": [
    {
      "cell_type": "markdown",
      "metadata": {
        "id": "RJ2u12v1N4wk"
      },
      "source": [
        "Just some imports to get out of the way"
      ]
    },
    {
      "cell_type": "code",
      "metadata": {
        "id": "yC20O-RCNrOE"
      },
      "source": [
        "import torch\n",
        "from torch import nn\n",
        "from torch.utils.data import DataLoader\n",
        "from torchvision import datasets\n",
        "from torchvision.transforms import ToTensor, Lambda, Compose\n",
        "import matplotlib.pyplot as plt\n",
        "import pandas as pd\n",
        "import numpy as np\n",
        "from sklearn.preprocessing import MinMaxScaler\n",
        "import datetime\n",
        "\n",
        "%matplotlib inline"
      ],
      "execution_count": 2,
      "outputs": []
    },
    {
      "cell_type": "code",
      "metadata": {
        "id": "jnAr-qY3Y2So"
      },
      "source": [
        "device = \"cuda\" if torch.cuda.is_available() else \"cpu\""
      ],
      "execution_count": 3,
      "outputs": []
    },
    {
      "cell_type": "markdown",
      "metadata": {
        "id": "-B76PDi1RS97"
      },
      "source": [
        "## Working with tensors"
      ]
    },
    {
      "cell_type": "code",
      "metadata": {
        "id": "xNmchcUWVLBk"
      },
      "source": [
        "n, k = 5, 5"
      ],
      "execution_count": null,
      "outputs": []
    },
    {
      "cell_type": "code",
      "metadata": {
        "colab": {
          "base_uri": "https://localhost:8080/"
        },
        "id": "s2FeWFEDSHH6",
        "outputId": "3805d98d-a3e2-4915-aaa9-ec9eabec32b4"
      },
      "source": [
        "x = torch.tensor([i for i in range(25)])\n",
        "x"
      ],
      "execution_count": null,
      "outputs": [
        {
          "output_type": "execute_result",
          "data": {
            "text/plain": [
              "tensor([ 0,  1,  2,  3,  4,  5,  6,  7,  8,  9, 10, 11, 12, 13, 14, 15, 16, 17,\n",
              "        18, 19, 20, 21, 22, 23, 24])"
            ]
          },
          "metadata": {},
          "execution_count": 83
        }
      ]
    },
    {
      "cell_type": "code",
      "metadata": {
        "colab": {
          "base_uri": "https://localhost:8080/"
        },
        "id": "hRoGsiFzSajK",
        "outputId": "8fdf82b8-7cd2-4cab-c33d-46ace7ae9ac5"
      },
      "source": [
        "# We can manipulate the shape of our data, adding and subtract dimensions.\n",
        "x = x.reshape(5, 5)\n",
        "x"
      ],
      "execution_count": null,
      "outputs": [
        {
          "output_type": "execute_result",
          "data": {
            "text/plain": [
              "tensor([[ 0,  1,  2,  3,  4],\n",
              "        [ 5,  6,  7,  8,  9],\n",
              "        [10, 11, 12, 13, 14],\n",
              "        [15, 16, 17, 18, 19],\n",
              "        [20, 21, 22, 23, 24]])"
            ]
          },
          "metadata": {},
          "execution_count": 84
        }
      ]
    },
    {
      "cell_type": "code",
      "metadata": {
        "colab": {
          "base_uri": "https://localhost:8080/"
        },
        "id": "YKjBv94uUd92",
        "outputId": "bb4c6230-bc14-4f8a-d62c-74c642feaf44"
      },
      "source": [
        "x = x.reshape(5, -1)\n",
        "x"
      ],
      "execution_count": null,
      "outputs": [
        {
          "output_type": "execute_result",
          "data": {
            "text/plain": [
              "tensor([[ 0,  1,  2,  3,  4],\n",
              "        [ 5,  6,  7,  8,  9],\n",
              "        [10, 11, 12, 13, 14],\n",
              "        [15, 16, 17, 18, 19],\n",
              "        [20, 21, 22, 23, 24]])"
            ]
          },
          "metadata": {},
          "execution_count": 85
        }
      ]
    },
    {
      "cell_type": "code",
      "metadata": {
        "colab": {
          "base_uri": "https://localhost:8080/"
        },
        "id": "L_wRb0TlUn2r",
        "outputId": "aba55285-c6c9-4bc6-f6b7-8ab327c22a78"
      },
      "source": [
        "x = x.unsqueeze(2)\n",
        "x"
      ],
      "execution_count": null,
      "outputs": [
        {
          "output_type": "execute_result",
          "data": {
            "text/plain": [
              "tensor([[[ 0],\n",
              "         [ 1],\n",
              "         [ 2],\n",
              "         [ 3],\n",
              "         [ 4]],\n",
              "\n",
              "        [[ 5],\n",
              "         [ 6],\n",
              "         [ 7],\n",
              "         [ 8],\n",
              "         [ 9]],\n",
              "\n",
              "        [[10],\n",
              "         [11],\n",
              "         [12],\n",
              "         [13],\n",
              "         [14]],\n",
              "\n",
              "        [[15],\n",
              "         [16],\n",
              "         [17],\n",
              "         [18],\n",
              "         [19]],\n",
              "\n",
              "        [[20],\n",
              "         [21],\n",
              "         [22],\n",
              "         [23],\n",
              "         [24]]])"
            ]
          },
          "metadata": {},
          "execution_count": 86
        }
      ]
    },
    {
      "cell_type": "code",
      "metadata": {
        "colab": {
          "base_uri": "https://localhost:8080/"
        },
        "id": "uGaBMMDwUPUA",
        "outputId": "cb043dd4-8881-407a-9050-14c4ee370c35"
      },
      "source": [
        "x = x.squeeze()\n",
        "x"
      ],
      "execution_count": null,
      "outputs": [
        {
          "output_type": "execute_result",
          "data": {
            "text/plain": [
              "tensor([[ 0,  1,  2,  3,  4],\n",
              "        [ 5,  6,  7,  8,  9],\n",
              "        [10, 11, 12, 13, 14],\n",
              "        [15, 16, 17, 18, 19],\n",
              "        [20, 21, 22, 23, 24]])"
            ]
          },
          "metadata": {},
          "execution_count": 87
        }
      ]
    },
    {
      "cell_type": "code",
      "metadata": {
        "colab": {
          "base_uri": "https://localhost:8080/"
        },
        "id": "JSNWvzW7VAwQ",
        "outputId": "2fc15306-e1f0-4493-b3a7-65cb8457617b"
      },
      "source": [
        "# Some useful short hands\n",
        "I = torch.eye(5)\n",
        "zeros = torch.zeros((n, k))\n",
        "ones = torch.ones((n, k))\n",
        "ones_like = torch.ones_like(torch.tensor([_ for _ in range(k)]))\n",
        "\n",
        "print(I, '\\n')\n",
        "print(zeros, '\\n')\n",
        "print(ones_like)"
      ],
      "execution_count": null,
      "outputs": [
        {
          "output_type": "stream",
          "name": "stdout",
          "text": [
            "tensor([[1., 0., 0., 0., 0.],\n",
            "        [0., 1., 0., 0., 0.],\n",
            "        [0., 0., 1., 0., 0.],\n",
            "        [0., 0., 0., 1., 0.],\n",
            "        [0., 0., 0., 0., 1.]]) \n",
            "\n",
            "tensor([[0., 0., 0., 0., 0.],\n",
            "        [0., 0., 0., 0., 0.],\n",
            "        [0., 0., 0., 0., 0.],\n",
            "        [0., 0., 0., 0., 0.],\n",
            "        [0., 0., 0., 0., 0.]]) \n",
            "\n",
            "tensor([1, 1, 1, 1, 1])\n"
          ]
        }
      ]
    },
    {
      "cell_type": "code",
      "metadata": {
        "colab": {
          "base_uri": "https://localhost:8080/"
        },
        "id": "k12rienDV2jc",
        "outputId": "9687b02f-37a7-4268-dcb2-615e8d67c570"
      },
      "source": [
        "x.type(torch.float)"
      ],
      "execution_count": null,
      "outputs": [
        {
          "output_type": "execute_result",
          "data": {
            "text/plain": [
              "tensor([[ 0.,  1.,  2.,  3.,  4.],\n",
              "        [ 5.,  6.,  7.,  8.,  9.],\n",
              "        [10., 11., 12., 13., 14.],\n",
              "        [15., 16., 17., 18., 19.],\n",
              "        [20., 21., 22., 23., 24.]])"
            ]
          },
          "metadata": {},
          "execution_count": 100
        }
      ]
    },
    {
      "cell_type": "markdown",
      "metadata": {
        "id": "fNzLigE-VuRO"
      },
      "source": [
        "## How about some math"
      ]
    },
    {
      "cell_type": "code",
      "metadata": {
        "colab": {
          "base_uri": "https://localhost:8080/"
        },
        "id": "gBsE0ifZVwzY",
        "outputId": "c853b191-d842-4571-cdc7-62132900d8c5"
      },
      "source": [
        "x"
      ],
      "execution_count": null,
      "outputs": [
        {
          "output_type": "execute_result",
          "data": {
            "text/plain": [
              "tensor([[ 0,  1,  2,  3,  4],\n",
              "        [ 5,  6,  7,  8,  9],\n",
              "        [10, 11, 12, 13, 14],\n",
              "        [15, 16, 17, 18, 19],\n",
              "        [20, 21, 22, 23, 24]])"
            ]
          },
          "metadata": {},
          "execution_count": 96
        }
      ]
    },
    {
      "cell_type": "code",
      "metadata": {
        "colab": {
          "base_uri": "https://localhost:8080/"
        },
        "id": "J3_SYZ46TAvG",
        "outputId": "3dac64da-92c3-4148-c214-7d4c05a75e76"
      },
      "source": [
        "x ** 2"
      ],
      "execution_count": null,
      "outputs": [
        {
          "output_type": "execute_result",
          "data": {
            "text/plain": [
              "tensor([[  0,   1,   4,   9,  16],\n",
              "        [ 25,  36,  49,  64,  81],\n",
              "        [100, 121, 144, 169, 196],\n",
              "        [225, 256, 289, 324, 361],\n",
              "        [400, 441, 484, 529, 576]])"
            ]
          },
          "metadata": {},
          "execution_count": 46
        }
      ]
    },
    {
      "cell_type": "code",
      "metadata": {
        "colab": {
          "base_uri": "https://localhost:8080/"
        },
        "id": "fle2CPLETBul",
        "outputId": "93c79b85-3ed4-4f53-c975-4892871f5f23"
      },
      "source": [
        "x + 10"
      ],
      "execution_count": null,
      "outputs": [
        {
          "output_type": "execute_result",
          "data": {
            "text/plain": [
              "tensor([[10, 11, 12, 13, 14],\n",
              "        [15, 16, 17, 18, 19],\n",
              "        [20, 21, 22, 23, 24],\n",
              "        [25, 26, 27, 28, 29],\n",
              "        [30, 31, 32, 33, 34]])"
            ]
          },
          "metadata": {},
          "execution_count": 47
        }
      ]
    },
    {
      "cell_type": "code",
      "metadata": {
        "colab": {
          "base_uri": "https://localhost:8080/"
        },
        "id": "xt2DQH-BWOj4",
        "outputId": "a5bd36f9-1788-45d5-87b0-1e292d5bdfd9"
      },
      "source": [
        "1 / (x + 1)"
      ],
      "execution_count": null,
      "outputs": [
        {
          "output_type": "execute_result",
          "data": {
            "text/plain": [
              "tensor([[1.0000, 0.5000, 0.3333, 0.2500, 0.2000],\n",
              "        [0.1667, 0.1429, 0.1250, 0.1111, 0.1000],\n",
              "        [0.0909, 0.0833, 0.0769, 0.0714, 0.0667],\n",
              "        [0.0625, 0.0588, 0.0556, 0.0526, 0.0500],\n",
              "        [0.0476, 0.0455, 0.0435, 0.0417, 0.0400]])"
            ]
          },
          "metadata": {},
          "execution_count": 101
        }
      ]
    },
    {
      "cell_type": "code",
      "metadata": {
        "colab": {
          "base_uri": "https://localhost:8080/"
        },
        "id": "dVZCyhY-TITp",
        "outputId": "b6271075-b0d4-4314-de31-a7e84562dbfb"
      },
      "source": [
        "x + torch.tensor([1, 2, 3, 4, 5])"
      ],
      "execution_count": null,
      "outputs": [
        {
          "output_type": "execute_result",
          "data": {
            "text/plain": [
              "tensor([[ 1,  3,  5,  7,  9],\n",
              "        [ 6,  8, 10, 12, 14],\n",
              "        [11, 13, 15, 17, 19],\n",
              "        [16, 18, 20, 22, 24],\n",
              "        [21, 23, 25, 27, 29]])"
            ]
          },
          "metadata": {},
          "execution_count": 51
        }
      ]
    },
    {
      "cell_type": "code",
      "metadata": {
        "colab": {
          "base_uri": "https://localhost:8080/"
        },
        "id": "pnR82fyoSdlh",
        "outputId": "7b0c60ed-5ca8-4649-b030-59111303a0ea"
      },
      "source": [
        "y = torch.rand(5, 5) * 25\n",
        "y"
      ],
      "execution_count": null,
      "outputs": [
        {
          "output_type": "execute_result",
          "data": {
            "text/plain": [
              "tensor([[17.4801,  2.8731,  2.9257, 22.3251, 16.9522],\n",
              "        [ 9.2242, 11.1593, 13.5795, 18.0300, 22.6469],\n",
              "        [ 2.7975,  7.8144,  2.5628, 19.0918, 15.9372],\n",
              "        [ 8.0296, 19.4077, 16.0336,  0.2744, 18.2500],\n",
              "        [11.5926, 11.1574, 13.9531, 18.5294, 18.1702]])"
            ]
          },
          "metadata": {},
          "execution_count": 39
        }
      ]
    },
    {
      "cell_type": "code",
      "metadata": {
        "colab": {
          "base_uri": "https://localhost:8080/"
        },
        "id": "NEdM-7HiSvpN",
        "outputId": "0bb69af9-4c3b-4290-ddd4-1cb32adc7caf"
      },
      "source": [
        "x * y"
      ],
      "execution_count": null,
      "outputs": [
        {
          "output_type": "execute_result",
          "data": {
            "text/plain": [
              "tensor([[  0.0000,   2.8731,   5.8514,  66.9753,  67.8088],\n",
              "        [ 46.1210,  66.9559,  95.0568, 144.2400, 203.8223],\n",
              "        [ 27.9750,  85.9581,  30.7537, 248.1930, 223.1208],\n",
              "        [120.4434, 310.5225, 272.5718,   4.9384, 346.7496],\n",
              "        [231.8526, 234.3049, 306.9674, 426.1766, 436.0844]])"
            ]
          },
          "metadata": {},
          "execution_count": 42
        }
      ]
    },
    {
      "cell_type": "code",
      "metadata": {
        "colab": {
          "base_uri": "https://localhost:8080/"
        },
        "id": "PEhKahIvS0id",
        "outputId": "90f716b9-b6b8-4141-8896-3d1c89a2c370"
      },
      "source": [
        "x.T"
      ],
      "execution_count": null,
      "outputs": [
        {
          "output_type": "execute_result",
          "data": {
            "text/plain": [
              "tensor([[ 0,  5, 10, 15, 20],\n",
              "        [ 1,  6, 11, 16, 21],\n",
              "        [ 2,  7, 12, 17, 22],\n",
              "        [ 3,  8, 13, 18, 23],\n",
              "        [ 4,  9, 14, 19, 24]])"
            ]
          },
          "metadata": {},
          "execution_count": 52
        }
      ]
    },
    {
      "cell_type": "markdown",
      "metadata": {
        "id": "00JZNEvdTrLz"
      },
      "source": [
        "## Lets work with some data"
      ]
    },
    {
      "cell_type": "code",
      "metadata": {
        "colab": {
          "base_uri": "https://localhost:8080/"
        },
        "id": "OuSMXYC2OLhU",
        "outputId": "7c41bd0e-5cc9-482d-fc60-7e93f21cdf21"
      },
      "source": [
        "traindf = pd.read_csv('sample_data/california_housing_train.csv')\n",
        "testdf = pd.read_csv('sample_data/california_housing_test.csv')\n",
        "\n",
        "print(traindf[:5])"
      ],
      "execution_count": 5,
      "outputs": [
        {
          "output_type": "stream",
          "name": "stdout",
          "text": [
            "   longitude  latitude  ...  median_income  median_house_value\n",
            "0    -114.31     34.19  ...         1.4936             66900.0\n",
            "1    -114.47     34.40  ...         1.8200             80100.0\n",
            "2    -114.56     33.69  ...         1.6509             85700.0\n",
            "3    -114.57     33.64  ...         3.1917             73400.0\n",
            "4    -114.57     33.57  ...         1.9250             65500.0\n",
            "\n",
            "[5 rows x 9 columns]\n"
          ]
        }
      ]
    },
    {
      "cell_type": "code",
      "metadata": {
        "colab": {
          "base_uri": "https://localhost:8080/"
        },
        "id": "_wdZp9vo8YJl",
        "outputId": "17464812-8774-4669-c6ab-ba74b3e229d0"
      },
      "source": [
        "traindf.iloc[0]"
      ],
      "execution_count": 6,
      "outputs": [
        {
          "output_type": "execute_result",
          "data": {
            "text/plain": [
              "longitude              -114.3100\n",
              "latitude                 34.1900\n",
              "housing_median_age       15.0000\n",
              "total_rooms            5612.0000\n",
              "total_bedrooms         1283.0000\n",
              "population             1015.0000\n",
              "households              472.0000\n",
              "median_income             1.4936\n",
              "median_house_value    66900.0000\n",
              "Name: 0, dtype: float64"
            ]
          },
          "metadata": {},
          "execution_count": 6
        }
      ]
    },
    {
      "cell_type": "code",
      "metadata": {
        "id": "LergLj3cA7km"
      },
      "source": [
        "sc = MinMaxScaler()\n",
        "train_numpy  = sc.fit_transform(traindf)\n",
        "test_numpy = sc.transform(testdf)"
      ],
      "execution_count": 7,
      "outputs": []
    },
    {
      "cell_type": "code",
      "metadata": {
        "colab": {
          "base_uri": "https://localhost:8080/"
        },
        "id": "uuuVhYKnBfvM",
        "outputId": "0787a1cd-b9b7-4a0c-896c-7ac91883f042"
      },
      "source": [
        "train_numpy[:5]"
      ],
      "execution_count": 8,
      "outputs": [
        {
          "output_type": "execute_result",
          "data": {
            "text/plain": [
              "array([[1.        , 0.17534538, 0.2745098 , 0.14788454, 0.19894475,\n",
              "        0.02836402, 0.07745437, 0.06853009, 0.10701193],\n",
              "       [0.98406375, 0.19766206, 0.35294118, 0.20160801, 0.29484792,\n",
              "        0.03155918, 0.07597435, 0.09104012, 0.13422831],\n",
              "       [0.9750996 , 0.12221041, 0.31372549, 0.01892711, 0.02684668,\n",
              "        0.00924914, 0.01907581, 0.07937822, 0.14577466],\n",
              "       [0.97410359, 0.11689692, 0.25490196, 0.03951496, 0.05214153,\n",
              "        0.01435018, 0.03700049, 0.18563882, 0.12041394],\n",
              "       [0.97410359, 0.10945802, 0.37254902, 0.038276  , 0.05043451,\n",
              "        0.0174052 , 0.04292057, 0.0982814 , 0.10412534]])"
            ]
          },
          "metadata": {},
          "execution_count": 8
        }
      ]
    },
    {
      "cell_type": "code",
      "metadata": {
        "colab": {
          "base_uri": "https://localhost:8080/"
        },
        "id": "WXyzi5yNRv9n",
        "outputId": "27812f19-bb1e-43c7-dbab-be0d115ccca9"
      },
      "source": [
        "train_tensor = torch.tensor(train_numpy)\n",
        "print(train_tensor[:5])"
      ],
      "execution_count": 9,
      "outputs": [
        {
          "output_type": "stream",
          "name": "stdout",
          "text": [
            "tensor([[1.0000, 0.1753, 0.2745, 0.1479, 0.1989, 0.0284, 0.0775, 0.0685, 0.1070],\n",
            "        [0.9841, 0.1977, 0.3529, 0.2016, 0.2948, 0.0316, 0.0760, 0.0910, 0.1342],\n",
            "        [0.9751, 0.1222, 0.3137, 0.0189, 0.0268, 0.0092, 0.0191, 0.0794, 0.1458],\n",
            "        [0.9741, 0.1169, 0.2549, 0.0395, 0.0521, 0.0144, 0.0370, 0.1856, 0.1204],\n",
            "        [0.9741, 0.1095, 0.3725, 0.0383, 0.0504, 0.0174, 0.0429, 0.0983, 0.1041]],\n",
            "       dtype=torch.float64)\n"
          ]
        }
      ]
    },
    {
      "cell_type": "code",
      "metadata": {
        "id": "umsvoptpOS5a"
      },
      "source": [
        "class CustomHousingDataset(torch.utils.data.Dataset):\n",
        "  def __init__(self, file, scaler):\n",
        "    self.df = pd.read_csv(file)\n",
        "    self.sc = scaler\n",
        "\n",
        "  def __len__(self):\n",
        "    return self.df.shape[0]\n",
        "  \n",
        "  def __getitem__(self, idx):\n",
        "    raw = self.df.iloc[idx].values\n",
        "    if type(idx) == int:\n",
        "      raw = raw.reshape(1, -1)\n",
        "    raw = self.sc.transform(raw)\n",
        "    data = torch.tensor(raw[:, :-1], dtype=torch.float32)\n",
        "    label = torch.tensor(raw[:, -1], dtype=torch.float32)\n",
        "    return data, label"
      ],
      "execution_count": 10,
      "outputs": []
    },
    {
      "cell_type": "code",
      "metadata": {
        "id": "Blrs0xRwP6gP"
      },
      "source": [
        "train_data = CustomHousingDataset('sample_data/california_housing_train.csv', sc)\n",
        "test_data = CustomHousingDataset('sample_data/california_housing_test.csv', sc)\n",
        "\n",
        "train_loader = DataLoader(train_data, batch_size=64, shuffle=True)\n",
        "test_loader = DataLoader(test_data, batch_size=64, shuffle=True)"
      ],
      "execution_count": 11,
      "outputs": []
    },
    {
      "cell_type": "code",
      "metadata": {
        "colab": {
          "base_uri": "https://localhost:8080/"
        },
        "id": "Mi516cGHB71J",
        "outputId": "669ee254-1125-4444-ec1b-d7d1f700707a"
      },
      "source": [
        "train_data[100:110]"
      ],
      "execution_count": 12,
      "outputs": [
        {
          "output_type": "execute_result",
          "data": {
            "text/plain": [
              "(tensor([[0.8725, 0.0266, 0.1373, 0.0575, 0.0475, 0.0279, 0.0470, 0.4056],\n",
              "         [0.8725, 0.0159, 0.5686, 0.0246, 0.0273, 0.0181, 0.0242, 0.1432],\n",
              "         [0.8715, 0.0701, 0.7059, 0.0186, 0.0289, 0.0108, 0.0232, 0.1346],\n",
              "         [0.8715, 0.0351, 0.0392, 0.0429, 0.0490, 0.0281, 0.0511, 0.2503],\n",
              "         [0.8695, 0.0531, 0.3725, 0.0295, 0.0377, 0.0214, 0.0377, 0.1239],\n",
              "         [0.8695, 0.0531, 0.3137, 0.0265, 0.0357, 0.0208, 0.0355, 0.1066],\n",
              "         [0.8675, 0.0276, 0.4314, 0.0323, 0.0363, 0.0159, 0.0385, 0.1839],\n",
              "         [0.8625, 0.0266, 0.3333, 0.0412, 0.0526, 0.0325, 0.0562, 0.1158],\n",
              "         [0.8596, 0.0223, 0.2941, 0.0091, 0.0152, 0.0034, 0.0087, 0.1099],\n",
              "         [0.8586, 0.0871, 0.3529, 0.0197, 0.0368, 0.0133, 0.0276, 0.0878]]),\n",
              " tensor([0.2988, 0.1637, 0.1186, 0.1406, 0.0969, 0.0953, 0.2268, 0.0829, 0.1495,\n",
              "         0.0722]))"
            ]
          },
          "metadata": {},
          "execution_count": 12
        }
      ]
    },
    {
      "cell_type": "markdown",
      "metadata": {
        "id": "KT0Cb12ndYow"
      },
      "source": [
        "## LETS MODEL\n",
        "We'll start by defining some basic models, loss functions, and optimizers. These are the fundamental building blocks for any Deep Learning platform.\n",
        "\n",
        "Some common loss functions:\n",
        "  - CrossEntropy\n",
        "  - NLL (negative log likelihood)\n",
        "  - BCE (binary cross entropy)\n",
        "  - L1\n",
        "  - MSE (mean sqaure error aka L2)\n",
        "\n",
        "And for optimizers we use some form of gradient descent:\n",
        "- SGD (stochastic gradient decent)\n",
        "- RMSprop\n",
        "- Adagrad\n",
        "- Adam\n",
        "\n",
        "Once we get here, would could also do things like schedule the learning rate, etc."
      ]
    },
    {
      "cell_type": "code",
      "metadata": {
        "id": "WP3bROntQYnZ"
      },
      "source": [
        "class FeedForward(nn.Module):\n",
        "  def __init__(self):\n",
        "    super(FeedForward, self).__init__()\n",
        "    self.linear1 = nn.Linear(8, 32)\n",
        "    self.relu1 = nn.LeakyReLU()\n",
        "    self.linear2 = nn.Linear(32, 16)\n",
        "    self.relu2 = nn.LeakyReLU()\n",
        "    self.linear_out = nn.Linear(16, 1)\n",
        "\n",
        "  def forward(self, x):\n",
        "    x = self.linear1(x)\n",
        "    x = self.relu1(x)\n",
        "    x = self.linear2(x)\n",
        "    x = self.relu2(x)\n",
        "    x = self.linear_out(x)\n",
        "    return x\n",
        "\n",
        "class moreAdvanced(nn.Module):\n",
        "  def __init__(self, size_in, size_out, device=device):\n",
        "    super(moreAdvanced, self).__init__()\n",
        "    self.linearStack = nn.Sequential(\n",
        "        nn.Linear(size_in, 32),\n",
        "        nn.LeakyReLU(),\n",
        "        nn.Linear(32, 16),\n",
        "        nn.LeakyReLU(),\n",
        "        nn.Linear(16, size_out)\n",
        "    )\n",
        "  \n",
        "  def forward(self, x):\n",
        "    x = self.linearStack(x)\n",
        "    return x"
      ],
      "execution_count": 13,
      "outputs": []
    },
    {
      "cell_type": "code",
      "metadata": {
        "colab": {
          "base_uri": "https://localhost:8080/"
        },
        "id": "fLc_7fj0YTgB",
        "outputId": "85c6e2e7-953d-4ca9-f8b1-e108feececcd"
      },
      "source": [
        "ff = FeedForward()\n",
        "print(ff)"
      ],
      "execution_count": 14,
      "outputs": [
        {
          "output_type": "stream",
          "name": "stdout",
          "text": [
            "FeedForward(\n",
            "  (linear1): Linear(in_features=8, out_features=32, bias=True)\n",
            "  (relu1): LeakyReLU(negative_slope=0.01)\n",
            "  (linear2): Linear(in_features=32, out_features=16, bias=True)\n",
            "  (relu2): LeakyReLU(negative_slope=0.01)\n",
            "  (linear_out): Linear(in_features=16, out_features=1, bias=True)\n",
            ")\n"
          ]
        }
      ]
    },
    {
      "cell_type": "code",
      "metadata": {
        "colab": {
          "base_uri": "https://localhost:8080/"
        },
        "id": "RViomU7BYXSI",
        "outputId": "2845b47a-2bb1-4706-a595-129a4b120c76"
      },
      "source": [
        "moreAdv = moreAdvanced(8, 1)\n",
        "print(moreAdv)"
      ],
      "execution_count": 15,
      "outputs": [
        {
          "output_type": "stream",
          "name": "stdout",
          "text": [
            "moreAdvanced(\n",
            "  (linearStack): Sequential(\n",
            "    (0): Linear(in_features=8, out_features=32, bias=True)\n",
            "    (1): LeakyReLU(negative_slope=0.01)\n",
            "    (2): Linear(in_features=32, out_features=16, bias=True)\n",
            "    (3): LeakyReLU(negative_slope=0.01)\n",
            "    (4): Linear(in_features=16, out_features=1, bias=True)\n",
            "  )\n",
            ")\n"
          ]
        }
      ]
    },
    {
      "cell_type": "code",
      "metadata": {
        "colab": {
          "base_uri": "https://localhost:8080/"
        },
        "id": "tiDqxsVEYh0Y",
        "outputId": "ab9b32a9-b4c1-4a7d-db38-fda2f8c8490b"
      },
      "source": [
        "loss_func = nn.MSELoss()\n",
        "optimizer = torch.optim.Adam(ff.parameters(), lr=1e-2)\n",
        "ff.eval()\n",
        "a, b = train_data[0]\n",
        "with torch.no_grad():\n",
        "  pred = ff(a)\n",
        "print('prediction:', pred)\n",
        "print('target:', b)\n",
        "print('error:', loss_func(pred, b.unsqueeze(0)))"
      ],
      "execution_count": null,
      "outputs": [
        {
          "output_type": "stream",
          "name": "stdout",
          "text": [
            "prediction: tensor([0.1199])\n",
            "target: tensor(0.1070)\n",
            "error: tensor(0.0002)\n"
          ]
        }
      ]
    },
    {
      "cell_type": "markdown",
      "metadata": {
        "id": "kToju96kfuJp"
      },
      "source": [
        "### This is what we want to do, over the entire training data."
      ]
    },
    {
      "cell_type": "code",
      "metadata": {
        "id": "bn5wlVyrdIkP"
      },
      "source": [
        "def train(dataloader, model, loss_func, optimizer):\n",
        "  model.train()\n",
        "  train_loss = []\n",
        "  \n",
        "  now = datetime.datetime.now()\n",
        "  for batch, (X, y) in enumerate(dataloader):\n",
        "    # ignore the first time we see this\n",
        "    # second time why is gpu better than cpu for this?\n",
        "    X, y = X.to(device), y.to(device)\n",
        "\n",
        "    # make some predictions and get the error\n",
        "    pred = model(X)\n",
        "    loss = loss_func(pred, y.unsqueeze(1))\n",
        "\n",
        "    # where the magic happens\n",
        "    # backpropogation\n",
        "    optimizer.zero_grad()\n",
        "    loss.backward()\n",
        "    optimizer.step()\n",
        "\n",
        "    if batch % 10 == 0:\n",
        "      loss, current = loss.item(), batch * len(X)\n",
        "      iters = 10 * len(X)\n",
        "      then = datetime.datetime.now()\n",
        "      iters /= (then - now).total_seconds()\n",
        "      print(f\"loss: {loss:>6f} [{current:>5d}/{17000}] ({iters:.1f} its/sec)\")\n",
        "      now = then\n",
        "      train_loss.append(loss)\n",
        "  return train_loss"
      ],
      "execution_count": 16,
      "outputs": []
    },
    {
      "cell_type": "code",
      "metadata": {
        "id": "bDgB95AGjsGs"
      },
      "source": [
        "def test(dataloader, model, loss_func):\n",
        "  size = len(dataloader)\n",
        "  num_batches = 170\n",
        "  model.eval()\n",
        "  test_loss = 0\n",
        "\n",
        "  with torch.no_grad():\n",
        "    for X, y in dataloader:\n",
        "      X, y = X.to(device), y.to(device)\n",
        "      pred = model(X)\n",
        "      test_loss += loss_func(pred, y.unsqueeze(1)).item()\n",
        "  test_loss /= num_batches\n",
        "  print(f\"Avg Loss: {test_loss:>8f}\\n\")\n",
        "  return test_loss"
      ],
      "execution_count": 17,
      "outputs": []
    },
    {
      "cell_type": "code",
      "metadata": {
        "colab": {
          "base_uri": "https://localhost:8080/",
          "height": 1000
        },
        "id": "XwUks9nVdIX8",
        "outputId": "a9f68a02-bffd-4824-a125-753e47524b18"
      },
      "source": [
        "ff = FeedForward().to(device)\n",
        "loss_func = nn.MSELoss()\n",
        "optimizer = torch.optim.Adam(ff.parameters(), lr=1e-3)\n",
        "epochs = 10\n",
        "train_loss = []\n",
        "test_loss = []\n",
        "for t in range(epochs):\n",
        "  print(f\"Epoch {t+1}\\n------------------------------- \\n\")\n",
        "  losses = train(train_loader, ff, loss_func, optimizer)\n",
        "  train_loss.append(losses)\n",
        "  test_loss.append(test(test_loader, ff, loss_func))\n",
        "\n",
        "# Could add a condition that interrupts training when the loss doesn't change much\n",
        "print('Done!')"
      ],
      "execution_count": 18,
      "outputs": [
        {
          "output_type": "stream",
          "name": "stdout",
          "text": [
            "Epoch 1\n",
            "------------------------------- \n",
            "\n",
            "loss: 0.244189 [    0/17000] (3115.7 its/sec)\n",
            "loss: 0.179380 [  640/17000] (3057.0 its/sec)\n",
            "loss: 0.142579 [ 1280/17000] (3229.7 its/sec)\n",
            "loss: 0.067677 [ 1920/17000] (2924.3 its/sec)\n",
            "loss: 0.058138 [ 2560/17000] (3275.9 its/sec)\n",
            "loss: 0.052506 [ 3200/17000] (3135.8 its/sec)\n",
            "loss: 0.058938 [ 3840/17000] (3375.5 its/sec)\n",
            "loss: 0.055747 [ 4480/17000] (3097.9 its/sec)\n",
            "loss: 0.047196 [ 5120/17000] (3045.0 its/sec)\n",
            "loss: 0.043660 [ 5760/17000] (3050.3 its/sec)\n",
            "loss: 0.043456 [ 6400/17000] (2907.7 its/sec)\n",
            "loss: 0.046248 [ 7040/17000] (3237.2 its/sec)\n",
            "loss: 0.051971 [ 7680/17000] (3152.8 its/sec)\n",
            "loss: 0.035678 [ 8320/17000] (2954.1 its/sec)\n",
            "loss: 0.034829 [ 8960/17000] (3019.6 its/sec)\n",
            "loss: 0.033707 [ 9600/17000] (2967.2 its/sec)\n",
            "loss: 0.036343 [10240/17000] (3067.2 its/sec)\n",
            "loss: 0.045530 [10880/17000] (3282.2 its/sec)\n",
            "loss: 0.019790 [11520/17000] (3023.5 its/sec)\n",
            "loss: 0.029848 [12160/17000] (2600.1 its/sec)\n",
            "loss: 0.039057 [12800/17000] (3021.0 its/sec)\n",
            "loss: 0.011879 [13440/17000] (3393.8 its/sec)\n",
            "loss: 0.022328 [14080/17000] (3080.4 its/sec)\n",
            "loss: 0.019432 [14720/17000] (3011.5 its/sec)\n",
            "loss: 0.015113 [15360/17000] (3285.7 its/sec)\n",
            "loss: 0.017005 [16000/17000] (3127.4 its/sec)\n",
            "loss: 0.025386 [16640/17000] (3270.9 its/sec)\n",
            "Avg Loss: 0.006446\n",
            "\n",
            "Epoch 2\n",
            "------------------------------- \n",
            "\n",
            "loss: 0.020050 [    0/17000] (29343.0 its/sec)\n",
            "loss: 0.020365 [  640/17000] (3038.4 its/sec)\n",
            "loss: 0.025592 [ 1280/17000] (3054.9 its/sec)\n",
            "loss: 0.015064 [ 1920/17000] (3036.3 its/sec)\n",
            "loss: 0.017862 [ 2560/17000] (2992.9 its/sec)\n",
            "loss: 0.025858 [ 3200/17000] (3152.5 its/sec)\n",
            "loss: 0.026269 [ 3840/17000] (2982.7 its/sec)\n",
            "loss: 0.014209 [ 4480/17000] (3009.5 its/sec)\n",
            "loss: 0.036967 [ 5120/17000] (3200.5 its/sec)\n",
            "loss: 0.027187 [ 5760/17000] (3076.5 its/sec)\n",
            "loss: 0.039668 [ 6400/17000] (2978.6 its/sec)\n",
            "loss: 0.018417 [ 7040/17000] (3239.5 its/sec)\n",
            "loss: 0.020846 [ 7680/17000] (3064.9 its/sec)\n",
            "loss: 0.028090 [ 8320/17000] (3218.3 its/sec)\n",
            "loss: 0.014780 [ 8960/17000] (3102.0 its/sec)\n",
            "loss: 0.015386 [ 9600/17000] (3139.4 its/sec)\n",
            "loss: 0.014127 [10240/17000] (3081.0 its/sec)\n",
            "loss: 0.014255 [10880/17000] (2968.9 its/sec)\n",
            "loss: 0.023540 [11520/17000] (2772.0 its/sec)\n",
            "loss: 0.022564 [12160/17000] (3197.1 its/sec)\n",
            "loss: 0.012817 [12800/17000] (3109.5 its/sec)\n",
            "loss: 0.017097 [13440/17000] (3275.6 its/sec)\n",
            "loss: 0.015878 [14080/17000] (3075.9 its/sec)\n",
            "loss: 0.021295 [14720/17000] (2940.5 its/sec)\n",
            "loss: 0.011181 [15360/17000] (3227.8 its/sec)\n",
            "loss: 0.013198 [16000/17000] (3185.8 its/sec)\n",
            "loss: 0.030344 [16640/17000] (3028.5 its/sec)\n",
            "Avg Loss: 0.005725\n",
            "\n",
            "Epoch 3\n",
            "------------------------------- \n",
            "\n",
            "loss: 0.020261 [    0/17000] (27453.7 its/sec)\n",
            "loss: 0.014815 [  640/17000] (3118.2 its/sec)\n",
            "loss: 0.021275 [ 1280/17000] (3179.3 its/sec)\n",
            "loss: 0.025404 [ 1920/17000] (3072.1 its/sec)\n",
            "loss: 0.043353 [ 2560/17000] (2990.5 its/sec)\n",
            "loss: 0.012505 [ 3200/17000] (3072.9 its/sec)\n",
            "loss: 0.020806 [ 3840/17000] (3130.3 its/sec)\n",
            "loss: 0.015206 [ 4480/17000] (2754.2 its/sec)\n",
            "loss: 0.027168 [ 5120/17000] (3075.8 its/sec)\n",
            "loss: 0.011735 [ 5760/17000] (2934.9 its/sec)\n",
            "loss: 0.026422 [ 6400/17000] (3237.3 its/sec)\n",
            "loss: 0.017910 [ 7040/17000] (3107.9 its/sec)\n",
            "loss: 0.010408 [ 7680/17000] (3025.5 its/sec)\n",
            "loss: 0.035614 [ 8320/17000] (3189.9 its/sec)\n",
            "loss: 0.018265 [ 8960/17000] (3063.2 its/sec)\n",
            "loss: 0.022833 [ 9600/17000] (3280.2 its/sec)\n",
            "loss: 0.023846 [10240/17000] (3158.9 its/sec)\n",
            "loss: 0.021728 [10880/17000] (3149.2 its/sec)\n",
            "loss: 0.019460 [11520/17000] (3198.6 its/sec)\n",
            "loss: 0.019660 [12160/17000] (3034.4 its/sec)\n",
            "loss: 0.010322 [12800/17000] (3086.3 its/sec)\n",
            "loss: 0.016499 [13440/17000] (3235.7 its/sec)\n",
            "loss: 0.025874 [14080/17000] (3039.5 its/sec)\n",
            "loss: 0.025763 [14720/17000] (3048.2 its/sec)\n",
            "loss: 0.019235 [15360/17000] (3278.8 its/sec)\n"
          ]
        },
        {
          "output_type": "error",
          "ename": "KeyboardInterrupt",
          "evalue": "ignored",
          "traceback": [
            "\u001b[0;31m---------------------------------------------------------------------------\u001b[0m",
            "\u001b[0;31mKeyboardInterrupt\u001b[0m                         Traceback (most recent call last)",
            "\u001b[0;32m<ipython-input-18-5931cd34ea12>\u001b[0m in \u001b[0;36m<module>\u001b[0;34m()\u001b[0m\n\u001b[1;32m      7\u001b[0m \u001b[0;32mfor\u001b[0m \u001b[0mt\u001b[0m \u001b[0;32min\u001b[0m \u001b[0mrange\u001b[0m\u001b[0;34m(\u001b[0m\u001b[0mepochs\u001b[0m\u001b[0;34m)\u001b[0m\u001b[0;34m:\u001b[0m\u001b[0;34m\u001b[0m\u001b[0;34m\u001b[0m\u001b[0m\n\u001b[1;32m      8\u001b[0m   \u001b[0mprint\u001b[0m\u001b[0;34m(\u001b[0m\u001b[0;34mf\"Epoch {t+1}\\n------------------------------- \\n\"\u001b[0m\u001b[0;34m)\u001b[0m\u001b[0;34m\u001b[0m\u001b[0;34m\u001b[0m\u001b[0m\n\u001b[0;32m----> 9\u001b[0;31m   \u001b[0mlosses\u001b[0m \u001b[0;34m=\u001b[0m \u001b[0mtrain\u001b[0m\u001b[0;34m(\u001b[0m\u001b[0mtrain_loader\u001b[0m\u001b[0;34m,\u001b[0m \u001b[0mff\u001b[0m\u001b[0;34m,\u001b[0m \u001b[0mloss_func\u001b[0m\u001b[0;34m,\u001b[0m \u001b[0moptimizer\u001b[0m\u001b[0;34m)\u001b[0m\u001b[0;34m\u001b[0m\u001b[0;34m\u001b[0m\u001b[0m\n\u001b[0m\u001b[1;32m     10\u001b[0m   \u001b[0mtrain_loss\u001b[0m\u001b[0;34m.\u001b[0m\u001b[0mappend\u001b[0m\u001b[0;34m(\u001b[0m\u001b[0mlosses\u001b[0m\u001b[0;34m)\u001b[0m\u001b[0;34m\u001b[0m\u001b[0;34m\u001b[0m\u001b[0m\n\u001b[1;32m     11\u001b[0m   \u001b[0mtest_loss\u001b[0m\u001b[0;34m.\u001b[0m\u001b[0mappend\u001b[0m\u001b[0;34m(\u001b[0m\u001b[0mtest\u001b[0m\u001b[0;34m(\u001b[0m\u001b[0mtest_loader\u001b[0m\u001b[0;34m,\u001b[0m \u001b[0mff\u001b[0m\u001b[0;34m,\u001b[0m \u001b[0mloss_func\u001b[0m\u001b[0;34m)\u001b[0m\u001b[0;34m)\u001b[0m\u001b[0;34m\u001b[0m\u001b[0;34m\u001b[0m\u001b[0m\n",
            "\u001b[0;32m<ipython-input-16-18481057a4ec>\u001b[0m in \u001b[0;36mtrain\u001b[0;34m(dataloader, model, loss_func, optimizer)\u001b[0m\n\u001b[1;32m      4\u001b[0m \u001b[0;34m\u001b[0m\u001b[0m\n\u001b[1;32m      5\u001b[0m   \u001b[0mnow\u001b[0m \u001b[0;34m=\u001b[0m \u001b[0mdatetime\u001b[0m\u001b[0;34m.\u001b[0m\u001b[0mdatetime\u001b[0m\u001b[0;34m.\u001b[0m\u001b[0mnow\u001b[0m\u001b[0;34m(\u001b[0m\u001b[0;34m)\u001b[0m\u001b[0;34m\u001b[0m\u001b[0;34m\u001b[0m\u001b[0m\n\u001b[0;32m----> 6\u001b[0;31m   \u001b[0;32mfor\u001b[0m \u001b[0mbatch\u001b[0m\u001b[0;34m,\u001b[0m \u001b[0;34m(\u001b[0m\u001b[0mX\u001b[0m\u001b[0;34m,\u001b[0m \u001b[0my\u001b[0m\u001b[0;34m)\u001b[0m \u001b[0;32min\u001b[0m \u001b[0menumerate\u001b[0m\u001b[0;34m(\u001b[0m\u001b[0mdataloader\u001b[0m\u001b[0;34m)\u001b[0m\u001b[0;34m:\u001b[0m\u001b[0;34m\u001b[0m\u001b[0;34m\u001b[0m\u001b[0m\n\u001b[0m\u001b[1;32m      7\u001b[0m     \u001b[0;31m# ignore the first time we see this\u001b[0m\u001b[0;34m\u001b[0m\u001b[0;34m\u001b[0m\u001b[0;34m\u001b[0m\u001b[0m\n\u001b[1;32m      8\u001b[0m     \u001b[0;31m# second time why is gpu better than cpu for this?\u001b[0m\u001b[0;34m\u001b[0m\u001b[0;34m\u001b[0m\u001b[0;34m\u001b[0m\u001b[0m\n",
            "\u001b[0;32m/usr/local/lib/python3.7/dist-packages/torch/utils/data/dataloader.py\u001b[0m in \u001b[0;36m__next__\u001b[0;34m(self)\u001b[0m\n\u001b[1;32m    519\u001b[0m             \u001b[0;32mif\u001b[0m \u001b[0mself\u001b[0m\u001b[0;34m.\u001b[0m\u001b[0m_sampler_iter\u001b[0m \u001b[0;32mis\u001b[0m \u001b[0;32mNone\u001b[0m\u001b[0;34m:\u001b[0m\u001b[0;34m\u001b[0m\u001b[0;34m\u001b[0m\u001b[0m\n\u001b[1;32m    520\u001b[0m                 \u001b[0mself\u001b[0m\u001b[0;34m.\u001b[0m\u001b[0m_reset\u001b[0m\u001b[0;34m(\u001b[0m\u001b[0;34m)\u001b[0m\u001b[0;34m\u001b[0m\u001b[0;34m\u001b[0m\u001b[0m\n\u001b[0;32m--> 521\u001b[0;31m             \u001b[0mdata\u001b[0m \u001b[0;34m=\u001b[0m \u001b[0mself\u001b[0m\u001b[0;34m.\u001b[0m\u001b[0m_next_data\u001b[0m\u001b[0;34m(\u001b[0m\u001b[0;34m)\u001b[0m\u001b[0;34m\u001b[0m\u001b[0;34m\u001b[0m\u001b[0m\n\u001b[0m\u001b[1;32m    522\u001b[0m             \u001b[0mself\u001b[0m\u001b[0;34m.\u001b[0m\u001b[0m_num_yielded\u001b[0m \u001b[0;34m+=\u001b[0m \u001b[0;36m1\u001b[0m\u001b[0;34m\u001b[0m\u001b[0;34m\u001b[0m\u001b[0m\n\u001b[1;32m    523\u001b[0m             \u001b[0;32mif\u001b[0m \u001b[0mself\u001b[0m\u001b[0;34m.\u001b[0m\u001b[0m_dataset_kind\u001b[0m \u001b[0;34m==\u001b[0m \u001b[0m_DatasetKind\u001b[0m\u001b[0;34m.\u001b[0m\u001b[0mIterable\u001b[0m \u001b[0;32mand\u001b[0m\u001b[0;31m \u001b[0m\u001b[0;31m\\\u001b[0m\u001b[0;34m\u001b[0m\u001b[0;34m\u001b[0m\u001b[0m\n",
            "\u001b[0;32m/usr/local/lib/python3.7/dist-packages/torch/utils/data/dataloader.py\u001b[0m in \u001b[0;36m_next_data\u001b[0;34m(self)\u001b[0m\n\u001b[1;32m    559\u001b[0m     \u001b[0;32mdef\u001b[0m \u001b[0m_next_data\u001b[0m\u001b[0;34m(\u001b[0m\u001b[0mself\u001b[0m\u001b[0;34m)\u001b[0m\u001b[0;34m:\u001b[0m\u001b[0;34m\u001b[0m\u001b[0;34m\u001b[0m\u001b[0m\n\u001b[1;32m    560\u001b[0m         \u001b[0mindex\u001b[0m \u001b[0;34m=\u001b[0m \u001b[0mself\u001b[0m\u001b[0;34m.\u001b[0m\u001b[0m_next_index\u001b[0m\u001b[0;34m(\u001b[0m\u001b[0;34m)\u001b[0m  \u001b[0;31m# may raise StopIteration\u001b[0m\u001b[0;34m\u001b[0m\u001b[0;34m\u001b[0m\u001b[0m\n\u001b[0;32m--> 561\u001b[0;31m         \u001b[0mdata\u001b[0m \u001b[0;34m=\u001b[0m \u001b[0mself\u001b[0m\u001b[0;34m.\u001b[0m\u001b[0m_dataset_fetcher\u001b[0m\u001b[0;34m.\u001b[0m\u001b[0mfetch\u001b[0m\u001b[0;34m(\u001b[0m\u001b[0mindex\u001b[0m\u001b[0;34m)\u001b[0m  \u001b[0;31m# may raise StopIteration\u001b[0m\u001b[0;34m\u001b[0m\u001b[0;34m\u001b[0m\u001b[0m\n\u001b[0m\u001b[1;32m    562\u001b[0m         \u001b[0;32mif\u001b[0m \u001b[0mself\u001b[0m\u001b[0;34m.\u001b[0m\u001b[0m_pin_memory\u001b[0m\u001b[0;34m:\u001b[0m\u001b[0;34m\u001b[0m\u001b[0;34m\u001b[0m\u001b[0m\n\u001b[1;32m    563\u001b[0m             \u001b[0mdata\u001b[0m \u001b[0;34m=\u001b[0m \u001b[0m_utils\u001b[0m\u001b[0;34m.\u001b[0m\u001b[0mpin_memory\u001b[0m\u001b[0;34m.\u001b[0m\u001b[0mpin_memory\u001b[0m\u001b[0;34m(\u001b[0m\u001b[0mdata\u001b[0m\u001b[0;34m)\u001b[0m\u001b[0;34m\u001b[0m\u001b[0;34m\u001b[0m\u001b[0m\n",
            "\u001b[0;32m/usr/local/lib/python3.7/dist-packages/torch/utils/data/_utils/fetch.py\u001b[0m in \u001b[0;36mfetch\u001b[0;34m(self, possibly_batched_index)\u001b[0m\n\u001b[1;32m     42\u001b[0m     \u001b[0;32mdef\u001b[0m \u001b[0mfetch\u001b[0m\u001b[0;34m(\u001b[0m\u001b[0mself\u001b[0m\u001b[0;34m,\u001b[0m \u001b[0mpossibly_batched_index\u001b[0m\u001b[0;34m)\u001b[0m\u001b[0;34m:\u001b[0m\u001b[0;34m\u001b[0m\u001b[0;34m\u001b[0m\u001b[0m\n\u001b[1;32m     43\u001b[0m         \u001b[0;32mif\u001b[0m \u001b[0mself\u001b[0m\u001b[0;34m.\u001b[0m\u001b[0mauto_collation\u001b[0m\u001b[0;34m:\u001b[0m\u001b[0;34m\u001b[0m\u001b[0;34m\u001b[0m\u001b[0m\n\u001b[0;32m---> 44\u001b[0;31m             \u001b[0mdata\u001b[0m \u001b[0;34m=\u001b[0m \u001b[0;34m[\u001b[0m\u001b[0mself\u001b[0m\u001b[0;34m.\u001b[0m\u001b[0mdataset\u001b[0m\u001b[0;34m[\u001b[0m\u001b[0midx\u001b[0m\u001b[0;34m]\u001b[0m \u001b[0;32mfor\u001b[0m \u001b[0midx\u001b[0m \u001b[0;32min\u001b[0m \u001b[0mpossibly_batched_index\u001b[0m\u001b[0;34m]\u001b[0m\u001b[0;34m\u001b[0m\u001b[0;34m\u001b[0m\u001b[0m\n\u001b[0m\u001b[1;32m     45\u001b[0m         \u001b[0;32melse\u001b[0m\u001b[0;34m:\u001b[0m\u001b[0;34m\u001b[0m\u001b[0;34m\u001b[0m\u001b[0m\n\u001b[1;32m     46\u001b[0m             \u001b[0mdata\u001b[0m \u001b[0;34m=\u001b[0m \u001b[0mself\u001b[0m\u001b[0;34m.\u001b[0m\u001b[0mdataset\u001b[0m\u001b[0;34m[\u001b[0m\u001b[0mpossibly_batched_index\u001b[0m\u001b[0;34m]\u001b[0m\u001b[0;34m\u001b[0m\u001b[0;34m\u001b[0m\u001b[0m\n",
            "\u001b[0;32m/usr/local/lib/python3.7/dist-packages/torch/utils/data/_utils/fetch.py\u001b[0m in \u001b[0;36m<listcomp>\u001b[0;34m(.0)\u001b[0m\n\u001b[1;32m     42\u001b[0m     \u001b[0;32mdef\u001b[0m \u001b[0mfetch\u001b[0m\u001b[0;34m(\u001b[0m\u001b[0mself\u001b[0m\u001b[0;34m,\u001b[0m \u001b[0mpossibly_batched_index\u001b[0m\u001b[0;34m)\u001b[0m\u001b[0;34m:\u001b[0m\u001b[0;34m\u001b[0m\u001b[0;34m\u001b[0m\u001b[0m\n\u001b[1;32m     43\u001b[0m         \u001b[0;32mif\u001b[0m \u001b[0mself\u001b[0m\u001b[0;34m.\u001b[0m\u001b[0mauto_collation\u001b[0m\u001b[0;34m:\u001b[0m\u001b[0;34m\u001b[0m\u001b[0;34m\u001b[0m\u001b[0m\n\u001b[0;32m---> 44\u001b[0;31m             \u001b[0mdata\u001b[0m \u001b[0;34m=\u001b[0m \u001b[0;34m[\u001b[0m\u001b[0mself\u001b[0m\u001b[0;34m.\u001b[0m\u001b[0mdataset\u001b[0m\u001b[0;34m[\u001b[0m\u001b[0midx\u001b[0m\u001b[0;34m]\u001b[0m \u001b[0;32mfor\u001b[0m \u001b[0midx\u001b[0m \u001b[0;32min\u001b[0m \u001b[0mpossibly_batched_index\u001b[0m\u001b[0;34m]\u001b[0m\u001b[0;34m\u001b[0m\u001b[0;34m\u001b[0m\u001b[0m\n\u001b[0m\u001b[1;32m     45\u001b[0m         \u001b[0;32melse\u001b[0m\u001b[0;34m:\u001b[0m\u001b[0;34m\u001b[0m\u001b[0;34m\u001b[0m\u001b[0m\n\u001b[1;32m     46\u001b[0m             \u001b[0mdata\u001b[0m \u001b[0;34m=\u001b[0m \u001b[0mself\u001b[0m\u001b[0;34m.\u001b[0m\u001b[0mdataset\u001b[0m\u001b[0;34m[\u001b[0m\u001b[0mpossibly_batched_index\u001b[0m\u001b[0;34m]\u001b[0m\u001b[0;34m\u001b[0m\u001b[0;34m\u001b[0m\u001b[0m\n",
            "\u001b[0;32m<ipython-input-10-e0cad633c995>\u001b[0m in \u001b[0;36m__getitem__\u001b[0;34m(self, idx)\u001b[0m\n\u001b[1;32m     11\u001b[0m     \u001b[0;32mif\u001b[0m \u001b[0mtype\u001b[0m\u001b[0;34m(\u001b[0m\u001b[0midx\u001b[0m\u001b[0;34m)\u001b[0m \u001b[0;34m==\u001b[0m \u001b[0mint\u001b[0m\u001b[0;34m:\u001b[0m\u001b[0;34m\u001b[0m\u001b[0;34m\u001b[0m\u001b[0m\n\u001b[1;32m     12\u001b[0m       \u001b[0mraw\u001b[0m \u001b[0;34m=\u001b[0m \u001b[0mraw\u001b[0m\u001b[0;34m.\u001b[0m\u001b[0mreshape\u001b[0m\u001b[0;34m(\u001b[0m\u001b[0;36m1\u001b[0m\u001b[0;34m,\u001b[0m \u001b[0;34m-\u001b[0m\u001b[0;36m1\u001b[0m\u001b[0;34m)\u001b[0m\u001b[0;34m\u001b[0m\u001b[0;34m\u001b[0m\u001b[0m\n\u001b[0;32m---> 13\u001b[0;31m     \u001b[0mraw\u001b[0m \u001b[0;34m=\u001b[0m \u001b[0mself\u001b[0m\u001b[0;34m.\u001b[0m\u001b[0msc\u001b[0m\u001b[0;34m.\u001b[0m\u001b[0mtransform\u001b[0m\u001b[0;34m(\u001b[0m\u001b[0mraw\u001b[0m\u001b[0;34m)\u001b[0m\u001b[0;34m\u001b[0m\u001b[0;34m\u001b[0m\u001b[0m\n\u001b[0m\u001b[1;32m     14\u001b[0m     \u001b[0mdata\u001b[0m \u001b[0;34m=\u001b[0m \u001b[0mtorch\u001b[0m\u001b[0;34m.\u001b[0m\u001b[0mtensor\u001b[0m\u001b[0;34m(\u001b[0m\u001b[0mraw\u001b[0m\u001b[0;34m[\u001b[0m\u001b[0;34m:\u001b[0m\u001b[0;34m,\u001b[0m \u001b[0;34m:\u001b[0m\u001b[0;34m-\u001b[0m\u001b[0;36m1\u001b[0m\u001b[0;34m]\u001b[0m\u001b[0;34m,\u001b[0m \u001b[0mdtype\u001b[0m\u001b[0;34m=\u001b[0m\u001b[0mtorch\u001b[0m\u001b[0;34m.\u001b[0m\u001b[0mfloat32\u001b[0m\u001b[0;34m)\u001b[0m\u001b[0;34m\u001b[0m\u001b[0;34m\u001b[0m\u001b[0m\n\u001b[1;32m     15\u001b[0m     \u001b[0mlabel\u001b[0m \u001b[0;34m=\u001b[0m \u001b[0mtorch\u001b[0m\u001b[0;34m.\u001b[0m\u001b[0mtensor\u001b[0m\u001b[0;34m(\u001b[0m\u001b[0mraw\u001b[0m\u001b[0;34m[\u001b[0m\u001b[0;34m:\u001b[0m\u001b[0;34m,\u001b[0m \u001b[0;34m-\u001b[0m\u001b[0;36m1\u001b[0m\u001b[0;34m]\u001b[0m\u001b[0;34m,\u001b[0m \u001b[0mdtype\u001b[0m\u001b[0;34m=\u001b[0m\u001b[0mtorch\u001b[0m\u001b[0;34m.\u001b[0m\u001b[0mfloat32\u001b[0m\u001b[0;34m)\u001b[0m\u001b[0;34m\u001b[0m\u001b[0;34m\u001b[0m\u001b[0m\n",
            "\u001b[0;32m/usr/local/lib/python3.7/dist-packages/sklearn/preprocessing/_data.py\u001b[0m in \u001b[0;36mtransform\u001b[0;34m(self, X)\u001b[0m\n\u001b[1;32m    410\u001b[0m \u001b[0;34m\u001b[0m\u001b[0m\n\u001b[1;32m    411\u001b[0m         X = check_array(X, copy=self.copy, dtype=FLOAT_DTYPES,\n\u001b[0;32m--> 412\u001b[0;31m                         force_all_finite=\"allow-nan\")\n\u001b[0m\u001b[1;32m    413\u001b[0m \u001b[0;34m\u001b[0m\u001b[0m\n\u001b[1;32m    414\u001b[0m         \u001b[0mX\u001b[0m \u001b[0;34m*=\u001b[0m \u001b[0mself\u001b[0m\u001b[0;34m.\u001b[0m\u001b[0mscale_\u001b[0m\u001b[0;34m\u001b[0m\u001b[0;34m\u001b[0m\u001b[0m\n",
            "\u001b[0;32m/usr/local/lib/python3.7/dist-packages/sklearn/utils/validation.py\u001b[0m in \u001b[0;36mcheck_array\u001b[0;34m(array, accept_sparse, accept_large_sparse, dtype, order, copy, force_all_finite, ensure_2d, allow_nd, ensure_min_samples, ensure_min_features, warn_on_dtype, estimator)\u001b[0m\n\u001b[1;32m    576\u001b[0m         \u001b[0;32mif\u001b[0m \u001b[0mforce_all_finite\u001b[0m\u001b[0;34m:\u001b[0m\u001b[0;34m\u001b[0m\u001b[0;34m\u001b[0m\u001b[0m\n\u001b[1;32m    577\u001b[0m             _assert_all_finite(array,\n\u001b[0;32m--> 578\u001b[0;31m                                allow_nan=force_all_finite == 'allow-nan')\n\u001b[0m\u001b[1;32m    579\u001b[0m \u001b[0;34m\u001b[0m\u001b[0m\n\u001b[1;32m    580\u001b[0m     \u001b[0;32mif\u001b[0m \u001b[0mensure_min_samples\u001b[0m \u001b[0;34m>\u001b[0m \u001b[0;36m0\u001b[0m\u001b[0;34m:\u001b[0m\u001b[0;34m\u001b[0m\u001b[0;34m\u001b[0m\u001b[0m\n",
            "\u001b[0;32m/usr/local/lib/python3.7/dist-packages/sklearn/utils/validation.py\u001b[0m in \u001b[0;36m_assert_all_finite\u001b[0;34m(X, allow_nan, msg_dtype)\u001b[0m\n\u001b[1;32m     48\u001b[0m     \u001b[0;31m# safely to reduce dtype induced overflows.\u001b[0m\u001b[0;34m\u001b[0m\u001b[0;34m\u001b[0m\u001b[0;34m\u001b[0m\u001b[0m\n\u001b[1;32m     49\u001b[0m     \u001b[0mis_float\u001b[0m \u001b[0;34m=\u001b[0m \u001b[0mX\u001b[0m\u001b[0;34m.\u001b[0m\u001b[0mdtype\u001b[0m\u001b[0;34m.\u001b[0m\u001b[0mkind\u001b[0m \u001b[0;32min\u001b[0m \u001b[0;34m'fc'\u001b[0m\u001b[0;34m\u001b[0m\u001b[0;34m\u001b[0m\u001b[0m\n\u001b[0;32m---> 50\u001b[0;31m     \u001b[0;32mif\u001b[0m \u001b[0mis_float\u001b[0m \u001b[0;32mand\u001b[0m \u001b[0;34m(\u001b[0m\u001b[0mnp\u001b[0m\u001b[0;34m.\u001b[0m\u001b[0misfinite\u001b[0m\u001b[0;34m(\u001b[0m\u001b[0m_safe_accumulator_op\u001b[0m\u001b[0;34m(\u001b[0m\u001b[0mnp\u001b[0m\u001b[0;34m.\u001b[0m\u001b[0msum\u001b[0m\u001b[0;34m,\u001b[0m \u001b[0mX\u001b[0m\u001b[0;34m)\u001b[0m\u001b[0;34m)\u001b[0m\u001b[0;34m)\u001b[0m\u001b[0;34m:\u001b[0m\u001b[0;34m\u001b[0m\u001b[0;34m\u001b[0m\u001b[0m\n\u001b[0m\u001b[1;32m     51\u001b[0m         \u001b[0;32mpass\u001b[0m\u001b[0;34m\u001b[0m\u001b[0;34m\u001b[0m\u001b[0m\n\u001b[1;32m     52\u001b[0m     \u001b[0;32melif\u001b[0m \u001b[0mis_float\u001b[0m\u001b[0;34m:\u001b[0m\u001b[0;34m\u001b[0m\u001b[0;34m\u001b[0m\u001b[0m\n",
            "\u001b[0;32m/usr/local/lib/python3.7/dist-packages/sklearn/utils/extmath.py\u001b[0m in \u001b[0;36m_safe_accumulator_op\u001b[0;34m(op, x, *args, **kwargs)\u001b[0m\n\u001b[1;32m    704\u001b[0m         \u001b[0mresult\u001b[0m \u001b[0;34m=\u001b[0m \u001b[0mop\u001b[0m\u001b[0;34m(\u001b[0m\u001b[0mx\u001b[0m\u001b[0;34m,\u001b[0m \u001b[0;34m*\u001b[0m\u001b[0margs\u001b[0m\u001b[0;34m,\u001b[0m \u001b[0;34m**\u001b[0m\u001b[0mkwargs\u001b[0m\u001b[0;34m,\u001b[0m \u001b[0mdtype\u001b[0m\u001b[0;34m=\u001b[0m\u001b[0mnp\u001b[0m\u001b[0;34m.\u001b[0m\u001b[0mfloat64\u001b[0m\u001b[0;34m)\u001b[0m\u001b[0;34m\u001b[0m\u001b[0;34m\u001b[0m\u001b[0m\n\u001b[1;32m    705\u001b[0m     \u001b[0;32melse\u001b[0m\u001b[0;34m:\u001b[0m\u001b[0;34m\u001b[0m\u001b[0;34m\u001b[0m\u001b[0m\n\u001b[0;32m--> 706\u001b[0;31m         \u001b[0mresult\u001b[0m \u001b[0;34m=\u001b[0m \u001b[0mop\u001b[0m\u001b[0;34m(\u001b[0m\u001b[0mx\u001b[0m\u001b[0;34m,\u001b[0m \u001b[0;34m*\u001b[0m\u001b[0margs\u001b[0m\u001b[0;34m,\u001b[0m \u001b[0;34m**\u001b[0m\u001b[0mkwargs\u001b[0m\u001b[0;34m)\u001b[0m\u001b[0;34m\u001b[0m\u001b[0;34m\u001b[0m\u001b[0m\n\u001b[0m\u001b[1;32m    707\u001b[0m     \u001b[0;32mreturn\u001b[0m \u001b[0mresult\u001b[0m\u001b[0;34m\u001b[0m\u001b[0;34m\u001b[0m\u001b[0m\n\u001b[1;32m    708\u001b[0m \u001b[0;34m\u001b[0m\u001b[0m\n",
            "\u001b[0;32m<__array_function__ internals>\u001b[0m in \u001b[0;36msum\u001b[0;34m(*args, **kwargs)\u001b[0m\n",
            "\u001b[0;32m/usr/local/lib/python3.7/dist-packages/numpy/core/fromnumeric.py\u001b[0m in \u001b[0;36msum\u001b[0;34m(a, axis, dtype, out, keepdims, initial, where)\u001b[0m\n\u001b[1;32m   2240\u001b[0m \u001b[0;34m\u001b[0m\u001b[0m\n\u001b[1;32m   2241\u001b[0m     return _wrapreduction(a, np.add, 'sum', axis, dtype, out, keepdims=keepdims,\n\u001b[0;32m-> 2242\u001b[0;31m                           initial=initial, where=where)\n\u001b[0m\u001b[1;32m   2243\u001b[0m \u001b[0;34m\u001b[0m\u001b[0m\n\u001b[1;32m   2244\u001b[0m \u001b[0;34m\u001b[0m\u001b[0m\n",
            "\u001b[0;32m/usr/local/lib/python3.7/dist-packages/numpy/core/fromnumeric.py\u001b[0m in \u001b[0;36m_wrapreduction\u001b[0;34m(obj, ufunc, method, axis, dtype, out, **kwargs)\u001b[0m\n\u001b[1;32m     85\u001b[0m                 \u001b[0;32mreturn\u001b[0m \u001b[0mreduction\u001b[0m\u001b[0;34m(\u001b[0m\u001b[0maxis\u001b[0m\u001b[0;34m=\u001b[0m\u001b[0maxis\u001b[0m\u001b[0;34m,\u001b[0m \u001b[0mout\u001b[0m\u001b[0;34m=\u001b[0m\u001b[0mout\u001b[0m\u001b[0;34m,\u001b[0m \u001b[0;34m**\u001b[0m\u001b[0mpasskwargs\u001b[0m\u001b[0;34m)\u001b[0m\u001b[0;34m\u001b[0m\u001b[0;34m\u001b[0m\u001b[0m\n\u001b[1;32m     86\u001b[0m \u001b[0;34m\u001b[0m\u001b[0m\n\u001b[0;32m---> 87\u001b[0;31m     \u001b[0;32mreturn\u001b[0m \u001b[0mufunc\u001b[0m\u001b[0;34m.\u001b[0m\u001b[0mreduce\u001b[0m\u001b[0;34m(\u001b[0m\u001b[0mobj\u001b[0m\u001b[0;34m,\u001b[0m \u001b[0maxis\u001b[0m\u001b[0;34m,\u001b[0m \u001b[0mdtype\u001b[0m\u001b[0;34m,\u001b[0m \u001b[0mout\u001b[0m\u001b[0;34m,\u001b[0m \u001b[0;34m**\u001b[0m\u001b[0mpasskwargs\u001b[0m\u001b[0;34m)\u001b[0m\u001b[0;34m\u001b[0m\u001b[0;34m\u001b[0m\u001b[0m\n\u001b[0m\u001b[1;32m     88\u001b[0m \u001b[0;34m\u001b[0m\u001b[0m\n\u001b[1;32m     89\u001b[0m \u001b[0;34m\u001b[0m\u001b[0m\n",
            "\u001b[0;31mKeyboardInterrupt\u001b[0m: "
          ]
        }
      ]
    },
    {
      "cell_type": "code",
      "metadata": {
        "colab": {
          "base_uri": "https://localhost:8080/",
          "height": 283
        },
        "id": "xh24R8-VdIN8",
        "outputId": "528394c3-7828-4a11-c0bc-8f844ee6627f"
      },
      "source": [
        "plt.plot([i for i in range(len(train_loss))], torch.tensor(train_loss).mean(axis=1))"
      ],
      "execution_count": null,
      "outputs": [
        {
          "output_type": "execute_result",
          "data": {
            "text/plain": [
              "[<matplotlib.lines.Line2D at 0x7f6554a3f810>]"
            ]
          },
          "metadata": {},
          "execution_count": 56
        },
        {
          "output_type": "display_data",
          "data": {
            "image/png": "[encoded data removed]",
            "text/plain": [
              "<Figure size 432x288 with 1 Axes>"
            ]
          },
          "metadata": {
            "needs_background": "light"
          }
        }
      ]
    },
    {
      "cell_type": "code",
      "metadata": {
        "colab": {
          "base_uri": "https://localhost:8080/",
          "height": 283
        },
        "id": "lbFlT5DCtWp9",
        "outputId": "d96f07ab-f6ec-471c-9283-d26ce270ed98"
      },
      "source": [
        "plt.plot([i for i in range(len(test_loss))], test_loss)"
      ],
      "execution_count": null,
      "outputs": [
        {
          "output_type": "execute_result",
          "data": {
            "text/plain": [
              "[<matplotlib.lines.Line2D at 0x7f65541e9610>]"
            ]
          },
          "metadata": {},
          "execution_count": 57
        },
        {
          "output_type": "display_data",
          "data": {
            "image/png": "[encoded data removed]",
            "text/plain": [
              "<Figure size 432x288 with 1 Axes>"
            ]
          },
          "metadata": {
            "needs_background": "light"
          }
        }
      ]
    },
    {
      "cell_type": "code",
      "metadata": {
        "colab": {
          "base_uri": "https://localhost:8080/"
        },
        "id": "Tck5Qq4dIUTB",
        "outputId": "fa80bd78-0224-4a21-b2ed-51a1614417a4"
      },
      "source": [
        "ff.eval()\n",
        "with torch.no_grad():\n",
        "  x, y = train_data[4]\n",
        "  pred = ff(x)\n",
        "  print(pred)\n",
        "  print(y)\n",
        "print(loss_func(pred, y.unsqueeze(1)).item())"
      ],
      "execution_count": null,
      "outputs": [
        {
          "output_type": "stream",
          "name": "stdout",
          "text": [
            "tensor([[0.0846]])\n",
            "tensor([0.1041])\n",
            "0.0003818339027930051\n"
          ]
        }
      ]
    },
    {
      "cell_type": "code",
      "metadata": {
        "id": "7GnGa6CUIpkr"
      },
      "source": [
        ""
      ],
      "execution_count": null,
      "outputs": []
    },
    {
      "cell_type": "code",
      "metadata": {
        "id": "bW1v5fYiIpiB"
      },
      "source": [
        ""
      ],
      "execution_count": null,
      "outputs": []
    },
    {
      "cell_type": "markdown",
      "metadata": {
        "id": "Hjgfk5c4iKgr"
      },
      "source": [
        "## If there's time"
      ]
    },
    {
      "cell_type": "code",
      "metadata": {
        "id": "w2pTNlxncb1O"
      },
      "source": [
        "class evenMore(nn.Module):\n",
        "  def __init__(self, s1, s2, s3):\n",
        "    super(evenMore, self).__init__()\n",
        "    self.m1 = moreAdvanced(s1, s2)\n",
        "    self.relu1 = nn.ReLU()\n",
        "    self.m2 = moreAdvanced(s2, s3)\n",
        "\n",
        "  def forward(self, x):\n",
        "    x = self.m1(x)\n",
        "    x = self.relu1(x)\n",
        "    x = self.m2(x)\n",
        "    return x"
      ],
      "execution_count": null,
      "outputs": []
    },
    {
      "cell_type": "code",
      "metadata": {
        "colab": {
          "base_uri": "https://localhost:8080/"
        },
        "id": "QBRJoI6Sc_oU",
        "outputId": "d72818f4-3976-4f65-a8ac-2a80a5a3cf1f"
      },
      "source": [
        "em = evenMore(8, 8, 1)\n",
        "em"
      ],
      "execution_count": null,
      "outputs": [
        {
          "output_type": "execute_result",
          "data": {
            "text/plain": [
              "evenMore(\n",
              "  (m1): moreAdvanced(\n",
              "    (linearStack): Sequential(\n",
              "      (0): Linear(in_features=8, out_features=32, bias=True)\n",
              "      (1): ReLU()\n",
              "      (2): Linear(in_features=32, out_features=16, bias=True)\n",
              "      (3): ReLU()\n",
              "      (4): Linear(in_features=16, out_features=8, bias=True)\n",
              "    )\n",
              "  )\n",
              "  (relu1): ReLU()\n",
              "  (m2): moreAdvanced(\n",
              "    (linearStack): Sequential(\n",
              "      (0): Linear(in_features=8, out_features=32, bias=True)\n",
              "      (1): ReLU()\n",
              "      (2): Linear(in_features=32, out_features=16, bias=True)\n",
              "      (3): ReLU()\n",
              "      (4): Linear(in_features=16, out_features=1, bias=True)\n",
              "    )\n",
              "  )\n",
              ")"
            ]
          },
          "metadata": {},
          "execution_count": 193
        }
      ]
    },
    {
      "cell_type": "code",
      "metadata": {
        "id": "I9Uj_4mudDFY"
      },
      "source": [
        ""
      ],
      "execution_count": null,
      "outputs": []
    }
  ]
}